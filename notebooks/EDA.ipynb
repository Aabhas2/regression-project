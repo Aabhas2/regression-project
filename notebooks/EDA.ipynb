{
 "cells": [
  {
   "cell_type": "code",
   "execution_count": 1,
   "id": "402d30b6",
   "metadata": {},
   "outputs": [],
   "source": [
    "import pandas as pd \n",
    "import numpy as np \n",
    "import matplotlib.pyplot as plt \n",
    "import seaborn as sns "
   ]
  },
  {
   "cell_type": "code",
   "execution_count": 2,
   "id": "67ac6e40",
   "metadata": {},
   "outputs": [],
   "source": [
    "df = pd.read_csv('../data/raw.csv')"
   ]
  },
  {
   "cell_type": "code",
   "execution_count": 3,
   "id": "5cfc3ecb",
   "metadata": {},
   "outputs": [
    {
     "data": {
      "text/html": [
       "<div>\n",
       "<style scoped>\n",
       "    .dataframe tbody tr th:only-of-type {\n",
       "        vertical-align: middle;\n",
       "    }\n",
       "\n",
       "    .dataframe tbody tr th {\n",
       "        vertical-align: top;\n",
       "    }\n",
       "\n",
       "    .dataframe thead th {\n",
       "        text-align: right;\n",
       "    }\n",
       "</style>\n",
       "<table border=\"1\" class=\"dataframe\">\n",
       "  <thead>\n",
       "    <tr style=\"text-align: right;\">\n",
       "      <th></th>\n",
       "      <th>listing_id</th>\n",
       "      <th>title</th>\n",
       "      <th>price</th>\n",
       "      <th>bhk</th>\n",
       "      <th>area_sqft</th>\n",
       "      <th>age_years</th>\n",
       "      <th>parking</th>\n",
       "      <th>location</th>\n",
       "      <th>price_per_sqft</th>\n",
       "      <th>price_text</th>\n",
       "      <th>area_text</th>\n",
       "      <th>page_scraped</th>\n",
       "    </tr>\n",
       "  </thead>\n",
       "  <tbody>\n",
       "    <tr>\n",
       "      <th>0</th>\n",
       "      <td>345954</td>\n",
       "      <td>JBMR Tathastu</td>\n",
       "      <td>95.0</td>\n",
       "      <td>3.0</td>\n",
       "      <td>NaN</td>\n",
       "      <td>NaN</td>\n",
       "      <td>NaN</td>\n",
       "      <td>NaN</td>\n",
       "      <td>NaN</td>\n",
       "      <td>₹95</td>\n",
       "      <td>.ft</td>\n",
       "      <td>1</td>\n",
       "    </tr>\n",
       "    <tr>\n",
       "      <th>1</th>\n",
       "      <td>272383</td>\n",
       "      <td>Risland Sky Mansion</td>\n",
       "      <td>57500000.0</td>\n",
       "      <td>3.0</td>\n",
       "      <td>NaN</td>\n",
       "      <td>NaN</td>\n",
       "      <td>NaN</td>\n",
       "      <td>NaN</td>\n",
       "      <td>NaN</td>\n",
       "      <td>₹5.75 Cr</td>\n",
       "      <td>.ft</td>\n",
       "      <td>1</td>\n",
       "    </tr>\n",
       "    <tr>\n",
       "      <th>2</th>\n",
       "      <td>350084</td>\n",
       "      <td>Maa Vaishno Homes</td>\n",
       "      <td>40.0</td>\n",
       "      <td>3.0</td>\n",
       "      <td>NaN</td>\n",
       "      <td>NaN</td>\n",
       "      <td>NaN</td>\n",
       "      <td>NaN</td>\n",
       "      <td>NaN</td>\n",
       "      <td>₹40</td>\n",
       "      <td>.ft</td>\n",
       "      <td>1</td>\n",
       "    </tr>\n",
       "    <tr>\n",
       "      <th>3</th>\n",
       "      <td>346895</td>\n",
       "      <td>Radhaya Urbanity</td>\n",
       "      <td>13800000.0</td>\n",
       "      <td>4.0</td>\n",
       "      <td>NaN</td>\n",
       "      <td>NaN</td>\n",
       "      <td>NaN</td>\n",
       "      <td>NaN</td>\n",
       "      <td>NaN</td>\n",
       "      <td>₹1.38 Cr</td>\n",
       "      <td>.ft</td>\n",
       "      <td>1</td>\n",
       "    </tr>\n",
       "    <tr>\n",
       "      <th>4</th>\n",
       "      <td>345951</td>\n",
       "      <td>S Gambhir Skyline Apartment</td>\n",
       "      <td>11000000.0</td>\n",
       "      <td>4.0</td>\n",
       "      <td>NaN</td>\n",
       "      <td>NaN</td>\n",
       "      <td>NaN</td>\n",
       "      <td>NaN</td>\n",
       "      <td>NaN</td>\n",
       "      <td>1.1 Cr</td>\n",
       "      <td>.ft</td>\n",
       "      <td>1</td>\n",
       "    </tr>\n",
       "    <tr>\n",
       "      <th>...</th>\n",
       "      <td>...</td>\n",
       "      <td>...</td>\n",
       "      <td>...</td>\n",
       "      <td>...</td>\n",
       "      <td>...</td>\n",
       "      <td>...</td>\n",
       "      <td>...</td>\n",
       "      <td>...</td>\n",
       "      <td>...</td>\n",
       "      <td>...</td>\n",
       "      <td>...</td>\n",
       "      <td>...</td>\n",
       "    </tr>\n",
       "    <tr>\n",
       "      <th>11995</th>\n",
       "      <td>18229005</td>\n",
       "      <td>2 BHK Independent Builder Floor in Rajpur</td>\n",
       "      <td>50.0</td>\n",
       "      <td>2.0</td>\n",
       "      <td>630.0</td>\n",
       "      <td>1.0</td>\n",
       "      <td>1.0</td>\n",
       "      <td>NaN</td>\n",
       "      <td>0.079365</td>\n",
       "      <td>₹50.0</td>\n",
       "      <td>630 sq.ft</td>\n",
       "      <td>409</td>\n",
       "    </tr>\n",
       "    <tr>\n",
       "      <th>11996</th>\n",
       "      <td>18038066</td>\n",
       "      <td>3 BHK Independent Builder Floor in Lajpat Nagar</td>\n",
       "      <td>60000000.0</td>\n",
       "      <td>3.0</td>\n",
       "      <td>1800.0</td>\n",
       "      <td>1.0</td>\n",
       "      <td>1.0</td>\n",
       "      <td>NaN</td>\n",
       "      <td>33333.333333</td>\n",
       "      <td>₹6.0 Cr</td>\n",
       "      <td>1800 sq.ft</td>\n",
       "      <td>409</td>\n",
       "    </tr>\n",
       "    <tr>\n",
       "      <th>11997</th>\n",
       "      <td>18047350</td>\n",
       "      <td>3 BHK Independent Builder Floor in Mehrauli</td>\n",
       "      <td>45.0</td>\n",
       "      <td>3.0</td>\n",
       "      <td>1200.0</td>\n",
       "      <td>1.0</td>\n",
       "      <td>1.0</td>\n",
       "      <td>Delhi</td>\n",
       "      <td>0.037500</td>\n",
       "      <td>₹45.0</td>\n",
       "      <td>1200 sq.ft</td>\n",
       "      <td>409</td>\n",
       "    </tr>\n",
       "    <tr>\n",
       "      <th>11998</th>\n",
       "      <td>11830838</td>\n",
       "      <td>2 BHK Independent Builder Floor in Khanpur</td>\n",
       "      <td>32.5</td>\n",
       "      <td>2.0</td>\n",
       "      <td>650.0</td>\n",
       "      <td>1.0</td>\n",
       "      <td>NaN</td>\n",
       "      <td>NaN</td>\n",
       "      <td>0.050000</td>\n",
       "      <td>₹32.5</td>\n",
       "      <td>650 sq.ft</td>\n",
       "      <td>409</td>\n",
       "    </tr>\n",
       "    <tr>\n",
       "      <th>11999</th>\n",
       "      <td>18220512</td>\n",
       "      <td>2 BHK Flat in Khanpur</td>\n",
       "      <td>33.0</td>\n",
       "      <td>2.0</td>\n",
       "      <td>650.0</td>\n",
       "      <td>1.0</td>\n",
       "      <td>1.0</td>\n",
       "      <td>NaN</td>\n",
       "      <td>0.050769</td>\n",
       "      <td>₹33.0</td>\n",
       "      <td>650 sq.ft</td>\n",
       "      <td>409</td>\n",
       "    </tr>\n",
       "  </tbody>\n",
       "</table>\n",
       "<p>12000 rows × 12 columns</p>\n",
       "</div>"
      ],
      "text/plain": [
       "       listing_id                                            title  \\\n",
       "0          345954                                    JBMR Tathastu   \n",
       "1          272383                              Risland Sky Mansion   \n",
       "2          350084                                Maa Vaishno Homes   \n",
       "3          346895                                 Radhaya Urbanity   \n",
       "4          345951                      S Gambhir Skyline Apartment   \n",
       "...           ...                                              ...   \n",
       "11995    18229005        2 BHK Independent Builder Floor in Rajpur   \n",
       "11996    18038066  3 BHK Independent Builder Floor in Lajpat Nagar   \n",
       "11997    18047350      3 BHK Independent Builder Floor in Mehrauli   \n",
       "11998    11830838       2 BHK Independent Builder Floor in Khanpur   \n",
       "11999    18220512                            2 BHK Flat in Khanpur   \n",
       "\n",
       "            price  bhk  area_sqft  age_years  parking location  \\\n",
       "0            95.0  3.0        NaN        NaN      NaN      NaN   \n",
       "1      57500000.0  3.0        NaN        NaN      NaN      NaN   \n",
       "2            40.0  3.0        NaN        NaN      NaN      NaN   \n",
       "3      13800000.0  4.0        NaN        NaN      NaN      NaN   \n",
       "4      11000000.0  4.0        NaN        NaN      NaN      NaN   \n",
       "...           ...  ...        ...        ...      ...      ...   \n",
       "11995        50.0  2.0      630.0        1.0      1.0      NaN   \n",
       "11996  60000000.0  3.0     1800.0        1.0      1.0      NaN   \n",
       "11997        45.0  3.0     1200.0        1.0      1.0    Delhi   \n",
       "11998        32.5  2.0      650.0        1.0      NaN      NaN   \n",
       "11999        33.0  2.0      650.0        1.0      1.0      NaN   \n",
       "\n",
       "       price_per_sqft price_text   area_text  page_scraped  \n",
       "0                 NaN        ₹95         .ft             1  \n",
       "1                 NaN   ₹5.75 Cr         .ft             1  \n",
       "2                 NaN        ₹40         .ft             1  \n",
       "3                 NaN   ₹1.38 Cr         .ft             1  \n",
       "4                 NaN     1.1 Cr         .ft             1  \n",
       "...               ...        ...         ...           ...  \n",
       "11995        0.079365      ₹50.0   630 sq.ft           409  \n",
       "11996    33333.333333    ₹6.0 Cr  1800 sq.ft           409  \n",
       "11997        0.037500      ₹45.0  1200 sq.ft           409  \n",
       "11998        0.050000      ₹32.5   650 sq.ft           409  \n",
       "11999        0.050769      ₹33.0   650 sq.ft           409  \n",
       "\n",
       "[12000 rows x 12 columns]"
      ]
     },
     "execution_count": 3,
     "metadata": {},
     "output_type": "execute_result"
    }
   ],
   "source": [
    "df"
   ]
  },
  {
   "cell_type": "code",
   "execution_count": 4,
   "id": "cdcc1b5d",
   "metadata": {},
   "outputs": [
    {
     "name": "stdout",
     "output_type": "stream",
     "text": [
      "Dataset Shape: (12000, 12)\n",
      "\n",
      "Column Names and Types:\n",
      "listing_id          int64\n",
      "title              object\n",
      "price             float64\n",
      "bhk               float64\n",
      "area_sqft         float64\n",
      "age_years         float64\n",
      "parking           float64\n",
      "location           object\n",
      "price_per_sqft    float64\n",
      "price_text         object\n",
      "area_text          object\n",
      "page_scraped        int64\n",
      "dtype: object\n",
      "\n",
      "Basic Info:\n",
      "<class 'pandas.core.frame.DataFrame'>\n",
      "RangeIndex: 12000 entries, 0 to 11999\n",
      "Data columns (total 12 columns):\n",
      " #   Column          Non-Null Count  Dtype  \n",
      "---  ------          --------------  -----  \n",
      " 0   listing_id      12000 non-null  int64  \n",
      " 1   title           11997 non-null  object \n",
      " 2   price           12000 non-null  float64\n",
      " 3   bhk             11871 non-null  float64\n",
      " 4   area_sqft       11751 non-null  float64\n",
      " 5   age_years       11018 non-null  float64\n",
      " 6   parking         8299 non-null   float64\n",
      " 7   location        4213 non-null   object \n",
      " 8   price_per_sqft  11751 non-null  float64\n",
      " 9   price_text      12000 non-null  object \n",
      " 10  area_text       11976 non-null  object \n",
      " 11  page_scraped    12000 non-null  int64  \n",
      "dtypes: float64(6), int64(2), object(4)\n",
      "memory usage: 1.1+ MB\n"
     ]
    }
   ],
   "source": [
    "# First, let's examine the basic structure and info about our dataset\n",
    "print(\"Dataset Shape:\", df.shape)\n",
    "print(\"\\nColumn Names and Types:\")\n",
    "print(df.dtypes)\n",
    "print(\"\\nBasic Info:\")\n",
    "df.info()"
   ]
  },
  {
   "cell_type": "code",
   "execution_count": 5,
   "id": "a059e9c7",
   "metadata": {},
   "outputs": [
    {
     "data": {
      "text/html": [
       "<div>\n",
       "<style scoped>\n",
       "    .dataframe tbody tr th:only-of-type {\n",
       "        vertical-align: middle;\n",
       "    }\n",
       "\n",
       "    .dataframe tbody tr th {\n",
       "        vertical-align: top;\n",
       "    }\n",
       "\n",
       "    .dataframe thead th {\n",
       "        text-align: right;\n",
       "    }\n",
       "</style>\n",
       "<table border=\"1\" class=\"dataframe\">\n",
       "  <thead>\n",
       "    <tr style=\"text-align: right;\">\n",
       "      <th></th>\n",
       "      <th>listing_id</th>\n",
       "      <th>title</th>\n",
       "      <th>price</th>\n",
       "      <th>bhk</th>\n",
       "      <th>area_sqft</th>\n",
       "      <th>age_years</th>\n",
       "      <th>parking</th>\n",
       "      <th>location</th>\n",
       "      <th>price_per_sqft</th>\n",
       "      <th>price_text</th>\n",
       "      <th>area_text</th>\n",
       "      <th>page_scraped</th>\n",
       "    </tr>\n",
       "  </thead>\n",
       "  <tbody>\n",
       "    <tr>\n",
       "      <th>0</th>\n",
       "      <td>345954</td>\n",
       "      <td>JBMR Tathastu</td>\n",
       "      <td>95.0</td>\n",
       "      <td>3.0</td>\n",
       "      <td>NaN</td>\n",
       "      <td>NaN</td>\n",
       "      <td>NaN</td>\n",
       "      <td>NaN</td>\n",
       "      <td>NaN</td>\n",
       "      <td>₹95</td>\n",
       "      <td>.ft</td>\n",
       "      <td>1</td>\n",
       "    </tr>\n",
       "    <tr>\n",
       "      <th>1</th>\n",
       "      <td>272383</td>\n",
       "      <td>Risland Sky Mansion</td>\n",
       "      <td>57500000.0</td>\n",
       "      <td>3.0</td>\n",
       "      <td>NaN</td>\n",
       "      <td>NaN</td>\n",
       "      <td>NaN</td>\n",
       "      <td>NaN</td>\n",
       "      <td>NaN</td>\n",
       "      <td>₹5.75 Cr</td>\n",
       "      <td>.ft</td>\n",
       "      <td>1</td>\n",
       "    </tr>\n",
       "    <tr>\n",
       "      <th>2</th>\n",
       "      <td>350084</td>\n",
       "      <td>Maa Vaishno Homes</td>\n",
       "      <td>40.0</td>\n",
       "      <td>3.0</td>\n",
       "      <td>NaN</td>\n",
       "      <td>NaN</td>\n",
       "      <td>NaN</td>\n",
       "      <td>NaN</td>\n",
       "      <td>NaN</td>\n",
       "      <td>₹40</td>\n",
       "      <td>.ft</td>\n",
       "      <td>1</td>\n",
       "    </tr>\n",
       "    <tr>\n",
       "      <th>3</th>\n",
       "      <td>346895</td>\n",
       "      <td>Radhaya Urbanity</td>\n",
       "      <td>13800000.0</td>\n",
       "      <td>4.0</td>\n",
       "      <td>NaN</td>\n",
       "      <td>NaN</td>\n",
       "      <td>NaN</td>\n",
       "      <td>NaN</td>\n",
       "      <td>NaN</td>\n",
       "      <td>₹1.38 Cr</td>\n",
       "      <td>.ft</td>\n",
       "      <td>1</td>\n",
       "    </tr>\n",
       "    <tr>\n",
       "      <th>4</th>\n",
       "      <td>345951</td>\n",
       "      <td>S Gambhir Skyline Apartment</td>\n",
       "      <td>11000000.0</td>\n",
       "      <td>4.0</td>\n",
       "      <td>NaN</td>\n",
       "      <td>NaN</td>\n",
       "      <td>NaN</td>\n",
       "      <td>NaN</td>\n",
       "      <td>NaN</td>\n",
       "      <td>1.1 Cr</td>\n",
       "      <td>.ft</td>\n",
       "      <td>1</td>\n",
       "    </tr>\n",
       "  </tbody>\n",
       "</table>\n",
       "</div>"
      ],
      "text/plain": [
       "   listing_id                        title       price  bhk  area_sqft  \\\n",
       "0      345954                JBMR Tathastu        95.0  3.0        NaN   \n",
       "1      272383          Risland Sky Mansion  57500000.0  3.0        NaN   \n",
       "2      350084            Maa Vaishno Homes        40.0  3.0        NaN   \n",
       "3      346895             Radhaya Urbanity  13800000.0  4.0        NaN   \n",
       "4      345951  S Gambhir Skyline Apartment  11000000.0  4.0        NaN   \n",
       "\n",
       "   age_years  parking location  price_per_sqft price_text area_text  \\\n",
       "0        NaN      NaN      NaN             NaN        ₹95       .ft   \n",
       "1        NaN      NaN      NaN             NaN   ₹5.75 Cr       .ft   \n",
       "2        NaN      NaN      NaN             NaN        ₹40       .ft   \n",
       "3        NaN      NaN      NaN             NaN   ₹1.38 Cr       .ft   \n",
       "4        NaN      NaN      NaN             NaN     1.1 Cr       .ft   \n",
       "\n",
       "   page_scraped  \n",
       "0             1  \n",
       "1             1  \n",
       "2             1  \n",
       "3             1  \n",
       "4             1  "
      ]
     },
     "execution_count": 5,
     "metadata": {},
     "output_type": "execute_result"
    }
   ],
   "source": [
    "df.head() "
   ]
  },
  {
   "cell_type": "code",
   "execution_count": 6,
   "id": "23670966",
   "metadata": {},
   "outputs": [
    {
     "data": {
      "text/plain": [
       "(12000, 12)"
      ]
     },
     "execution_count": 6,
     "metadata": {},
     "output_type": "execute_result"
    }
   ],
   "source": [
    "df.shape"
   ]
  },
  {
   "cell_type": "code",
   "execution_count": 7,
   "id": "3a956521",
   "metadata": {},
   "outputs": [
    {
     "data": {
      "text/plain": [
       "listing_id          int64\n",
       "title              object\n",
       "price             float64\n",
       "bhk               float64\n",
       "area_sqft         float64\n",
       "age_years         float64\n",
       "parking           float64\n",
       "location           object\n",
       "price_per_sqft    float64\n",
       "price_text         object\n",
       "area_text          object\n",
       "page_scraped        int64\n",
       "dtype: object"
      ]
     },
     "execution_count": 7,
     "metadata": {},
     "output_type": "execute_result"
    }
   ],
   "source": [
    "df.dtypes "
   ]
  },
  {
   "cell_type": "code",
   "execution_count": 8,
   "id": "bb8ed8ae",
   "metadata": {},
   "outputs": [
    {
     "name": "stdout",
     "output_type": "stream",
     "text": [
      "<class 'pandas.core.frame.DataFrame'>\n",
      "RangeIndex: 12000 entries, 0 to 11999\n",
      "Data columns (total 12 columns):\n",
      " #   Column          Non-Null Count  Dtype  \n",
      "---  ------          --------------  -----  \n",
      " 0   listing_id      12000 non-null  int64  \n",
      " 1   title           11997 non-null  object \n",
      " 2   price           12000 non-null  float64\n",
      " 3   bhk             11871 non-null  float64\n",
      " 4   area_sqft       11751 non-null  float64\n",
      " 5   age_years       11018 non-null  float64\n",
      " 6   parking         8299 non-null   float64\n",
      " 7   location        4213 non-null   object \n",
      " 8   price_per_sqft  11751 non-null  float64\n",
      " 9   price_text      12000 non-null  object \n",
      " 10  area_text       11976 non-null  object \n",
      " 11  page_scraped    12000 non-null  int64  \n",
      "dtypes: float64(6), int64(2), object(4)\n",
      "memory usage: 1.1+ MB\n"
     ]
    }
   ],
   "source": [
    "df.info() "
   ]
  },
  {
   "cell_type": "code",
   "execution_count": 9,
   "id": "9874dc6e",
   "metadata": {},
   "outputs": [],
   "source": [
    "def missing_value(df):\n",
    "    print(\"Missing Values Analysis:\")\n",
    "    missing_summary = df.isnull().sum() \n",
    "    missing_percentage = df.isnull().mean() * 100\n",
    "    missing_df = pd.DataFrame({\n",
    "        'Missing_count': missing_summary,\n",
    "        'Missing_percentage': missing_percentage\n",
    "    }).sort_values('Missing_percentage',ascending=False)\n",
    "    print(missing_df[missing_df['Missing_count'] > 0])\n",
    "\n"
   ]
  },
  {
   "cell_type": "code",
   "execution_count": 10,
   "id": "85ebf79a",
   "metadata": {},
   "outputs": [
    {
     "name": "stdout",
     "output_type": "stream",
     "text": [
      "Missing Values Analysis:\n",
      "                Missing_count  Missing_percentage\n",
      "location                 7787           64.891667\n",
      "parking                  3701           30.841667\n",
      "age_years                 982            8.183333\n",
      "area_sqft                 249            2.075000\n",
      "price_per_sqft            249            2.075000\n",
      "bhk                       129            1.075000\n",
      "area_text                  24            0.200000\n",
      "title                       3            0.025000\n"
     ]
    }
   ],
   "source": [
    "missing_value(df)"
   ]
  },
  {
   "cell_type": "code",
   "execution_count": 11,
   "id": "968d10b5",
   "metadata": {},
   "outputs": [
    {
     "data": {
      "text/plain": [
       "Index(['listing_id', 'title', 'price', 'bhk', 'area_sqft', 'age_years',\n",
       "       'parking', 'location', 'price_per_sqft', 'price_text', 'area_text',\n",
       "       'page_scraped'],\n",
       "      dtype='object')"
      ]
     },
     "execution_count": 11,
     "metadata": {},
     "output_type": "execute_result"
    }
   ],
   "source": [
    "df.columns"
   ]
  },
  {
   "cell_type": "code",
   "execution_count": 12,
   "id": "11c1d3a3",
   "metadata": {},
   "outputs": [
    {
     "data": {
      "text/plain": [
       "parking\n",
       "1.0    8299\n",
       "Name: count, dtype: int64"
      ]
     },
     "execution_count": 12,
     "metadata": {},
     "output_type": "execute_result"
    }
   ],
   "source": [
    "df['parking'].value_counts()"
   ]
  },
  {
   "cell_type": "code",
   "execution_count": 13,
   "id": "6af0317d",
   "metadata": {},
   "outputs": [
    {
     "data": {
      "text/html": [
       "<div>\n",
       "<style scoped>\n",
       "    .dataframe tbody tr th:only-of-type {\n",
       "        vertical-align: middle;\n",
       "    }\n",
       "\n",
       "    .dataframe tbody tr th {\n",
       "        vertical-align: top;\n",
       "    }\n",
       "\n",
       "    .dataframe thead th {\n",
       "        text-align: right;\n",
       "    }\n",
       "</style>\n",
       "<table border=\"1\" class=\"dataframe\">\n",
       "  <thead>\n",
       "    <tr style=\"text-align: right;\">\n",
       "      <th></th>\n",
       "      <th>listing_id</th>\n",
       "      <th>title</th>\n",
       "      <th>price</th>\n",
       "      <th>bhk</th>\n",
       "      <th>area_sqft</th>\n",
       "      <th>age_years</th>\n",
       "      <th>parking</th>\n",
       "      <th>location</th>\n",
       "      <th>price_per_sqft</th>\n",
       "      <th>price_text</th>\n",
       "      <th>area_text</th>\n",
       "      <th>page_scraped</th>\n",
       "    </tr>\n",
       "  </thead>\n",
       "  <tbody>\n",
       "    <tr>\n",
       "      <th>5464</th>\n",
       "      <td>17012165</td>\n",
       "      <td>4 BHK Independent Builder Floor in South Exten...</td>\n",
       "      <td>130000000.0</td>\n",
       "      <td>4.0</td>\n",
       "      <td>3600.0</td>\n",
       "      <td>1.0</td>\n",
       "      <td>NaN</td>\n",
       "      <td>NaN</td>\n",
       "      <td>36111.111111</td>\n",
       "      <td>₹13.0 Cr</td>\n",
       "      <td>3600 sq.ft</td>\n",
       "      <td>186</td>\n",
       "    </tr>\n",
       "    <tr>\n",
       "      <th>10811</th>\n",
       "      <td>17098136</td>\n",
       "      <td>3 BHK Independent Builder Floor in Garhi</td>\n",
       "      <td>55000000.0</td>\n",
       "      <td>3.0</td>\n",
       "      <td>1800.0</td>\n",
       "      <td>1.0</td>\n",
       "      <td>1.0</td>\n",
       "      <td>NaN</td>\n",
       "      <td>30555.555556</td>\n",
       "      <td>₹5.5 Cr</td>\n",
       "      <td>1800 sq.ft</td>\n",
       "      <td>367</td>\n",
       "    </tr>\n",
       "    <tr>\n",
       "      <th>2092</th>\n",
       "      <td>18379926</td>\n",
       "      <td>2 BHK Flat in Sector 10 Dwarka</td>\n",
       "      <td>20500000.0</td>\n",
       "      <td>2.0</td>\n",
       "      <td>1300.0</td>\n",
       "      <td>1.0</td>\n",
       "      <td>1.0</td>\n",
       "      <td>Sector 10</td>\n",
       "      <td>15769.230769</td>\n",
       "      <td>₹2.05 Cr</td>\n",
       "      <td>1300 sq.ft</td>\n",
       "      <td>73</td>\n",
       "    </tr>\n",
       "    <tr>\n",
       "      <th>9201</th>\n",
       "      <td>18411938</td>\n",
       "      <td>2.5 BHK Independent Builder Floor in Shastri N...</td>\n",
       "      <td>10000000.0</td>\n",
       "      <td>5.0</td>\n",
       "      <td>850.0</td>\n",
       "      <td>1.0</td>\n",
       "      <td>1.0</td>\n",
       "      <td>NaN</td>\n",
       "      <td>11764.705882</td>\n",
       "      <td>₹1.0 Cr</td>\n",
       "      <td>850 sq.ft</td>\n",
       "      <td>313</td>\n",
       "    </tr>\n",
       "    <tr>\n",
       "      <th>9039</th>\n",
       "      <td>14595495</td>\n",
       "      <td>4 BHK Flat in Sector 3 Dwarka</td>\n",
       "      <td>30000000.0</td>\n",
       "      <td>4.0</td>\n",
       "      <td>2100.0</td>\n",
       "      <td>1.0</td>\n",
       "      <td>1.0</td>\n",
       "      <td>Sector 3</td>\n",
       "      <td>14285.714286</td>\n",
       "      <td>₹3.0 Cr</td>\n",
       "      <td>2100 sq.ft</td>\n",
       "      <td>308</td>\n",
       "    </tr>\n",
       "  </tbody>\n",
       "</table>\n",
       "</div>"
      ],
      "text/plain": [
       "       listing_id                                              title  \\\n",
       "5464     17012165  4 BHK Independent Builder Floor in South Exten...   \n",
       "10811    17098136           3 BHK Independent Builder Floor in Garhi   \n",
       "2092     18379926                     2 BHK Flat in Sector 10 Dwarka   \n",
       "9201     18411938  2.5 BHK Independent Builder Floor in Shastri N...   \n",
       "9039     14595495                      4 BHK Flat in Sector 3 Dwarka   \n",
       "\n",
       "             price  bhk  area_sqft  age_years  parking   location  \\\n",
       "5464   130000000.0  4.0     3600.0        1.0      NaN        NaN   \n",
       "10811   55000000.0  3.0     1800.0        1.0      1.0        NaN   \n",
       "2092    20500000.0  2.0     1300.0        1.0      1.0  Sector 10   \n",
       "9201    10000000.0  5.0      850.0        1.0      1.0        NaN   \n",
       "9039    30000000.0  4.0     2100.0        1.0      1.0   Sector 3   \n",
       "\n",
       "       price_per_sqft price_text   area_text  page_scraped  \n",
       "5464     36111.111111   ₹13.0 Cr  3600 sq.ft           186  \n",
       "10811    30555.555556    ₹5.5 Cr  1800 sq.ft           367  \n",
       "2092     15769.230769   ₹2.05 Cr  1300 sq.ft            73  \n",
       "9201     11764.705882    ₹1.0 Cr   850 sq.ft           313  \n",
       "9039     14285.714286    ₹3.0 Cr  2100 sq.ft           308  "
      ]
     },
     "execution_count": 13,
     "metadata": {},
     "output_type": "execute_result"
    }
   ],
   "source": [
    "df.sample(5)"
   ]
  },
  {
   "cell_type": "markdown",
   "id": "a9cd937a",
   "metadata": {},
   "source": [
    "#### After observing the raw data, I have to drop few columns with no significane: age_years, location, price_per_sqft (I will recalculate this), area_text, page_scraped, listing_id, title"
   ]
  },
  {
   "cell_type": "code",
   "execution_count": 14,
   "id": "1a6f1e6f",
   "metadata": {},
   "outputs": [],
   "source": [
    "raw_df = df.drop(columns=['age_years','location','price_per_sqft','area_text','price_text','page_scraped','listing_id'],axis=1)"
   ]
  },
  {
   "cell_type": "code",
   "execution_count": 15,
   "id": "684bc029",
   "metadata": {},
   "outputs": [
    {
     "name": "stdout",
     "output_type": "stream",
     "text": [
      "Missing Values Analysis:\n",
      "           Missing_count  Missing_percentage\n",
      "parking             3701           30.841667\n",
      "area_sqft            249            2.075000\n",
      "bhk                  129            1.075000\n",
      "title                  3            0.025000\n"
     ]
    }
   ],
   "source": [
    "missing_value(raw_df)"
   ]
  },
  {
   "cell_type": "code",
   "execution_count": 16,
   "id": "ce0efc24",
   "metadata": {},
   "outputs": [],
   "source": [
    "raw_df.to_csv('../data/raw_processed.csv',index=False)"
   ]
  },
  {
   "cell_type": "code",
   "execution_count": 17,
   "id": "e98ff189",
   "metadata": {},
   "outputs": [],
   "source": [
    "df.drop(columns=['age_years','location','price_per_sqft','area_text','price_text','page_scraped','listing_id','title'],axis=1,inplace=True)"
   ]
  },
  {
   "cell_type": "code",
   "execution_count": 18,
   "id": "258f2fb2",
   "metadata": {},
   "outputs": [
    {
     "name": "stdout",
     "output_type": "stream",
     "text": [
      "Missing Values Analysis:\n",
      "           Missing_count  Missing_percentage\n",
      "parking             3701           30.841667\n",
      "area_sqft            249            2.075000\n",
      "bhk                  129            1.075000\n"
     ]
    }
   ],
   "source": [
    "missing_value(df)"
   ]
  },
  {
   "cell_type": "code",
   "execution_count": 19,
   "id": "39721d15",
   "metadata": {},
   "outputs": [
    {
     "data": {
      "text/plain": [
       "np.int64(4370)"
      ]
     },
     "execution_count": 19,
     "metadata": {},
     "output_type": "execute_result"
    }
   ],
   "source": [
    "df.duplicated().sum()"
   ]
  },
  {
   "cell_type": "code",
   "execution_count": 20,
   "id": "718c47c1",
   "metadata": {},
   "outputs": [
    {
     "data": {
      "text/html": [
       "<div>\n",
       "<style scoped>\n",
       "    .dataframe tbody tr th:only-of-type {\n",
       "        vertical-align: middle;\n",
       "    }\n",
       "\n",
       "    .dataframe tbody tr th {\n",
       "        vertical-align: top;\n",
       "    }\n",
       "\n",
       "    .dataframe thead th {\n",
       "        text-align: right;\n",
       "    }\n",
       "</style>\n",
       "<table border=\"1\" class=\"dataframe\">\n",
       "  <thead>\n",
       "    <tr style=\"text-align: right;\">\n",
       "      <th></th>\n",
       "      <th>price</th>\n",
       "      <th>bhk</th>\n",
       "      <th>area_sqft</th>\n",
       "      <th>parking</th>\n",
       "    </tr>\n",
       "  </thead>\n",
       "  <tbody>\n",
       "    <tr>\n",
       "      <th>0</th>\n",
       "      <td>95.0</td>\n",
       "      <td>3.0</td>\n",
       "      <td>NaN</td>\n",
       "      <td>NaN</td>\n",
       "    </tr>\n",
       "    <tr>\n",
       "      <th>1</th>\n",
       "      <td>57500000.0</td>\n",
       "      <td>3.0</td>\n",
       "      <td>NaN</td>\n",
       "      <td>NaN</td>\n",
       "    </tr>\n",
       "    <tr>\n",
       "      <th>2</th>\n",
       "      <td>40.0</td>\n",
       "      <td>3.0</td>\n",
       "      <td>NaN</td>\n",
       "      <td>NaN</td>\n",
       "    </tr>\n",
       "    <tr>\n",
       "      <th>3</th>\n",
       "      <td>13800000.0</td>\n",
       "      <td>4.0</td>\n",
       "      <td>NaN</td>\n",
       "      <td>NaN</td>\n",
       "    </tr>\n",
       "    <tr>\n",
       "      <th>4</th>\n",
       "      <td>11000000.0</td>\n",
       "      <td>4.0</td>\n",
       "      <td>NaN</td>\n",
       "      <td>NaN</td>\n",
       "    </tr>\n",
       "  </tbody>\n",
       "</table>\n",
       "</div>"
      ],
      "text/plain": [
       "        price  bhk  area_sqft  parking\n",
       "0        95.0  3.0        NaN      NaN\n",
       "1  57500000.0  3.0        NaN      NaN\n",
       "2        40.0  3.0        NaN      NaN\n",
       "3  13800000.0  4.0        NaN      NaN\n",
       "4  11000000.0  4.0        NaN      NaN"
      ]
     },
     "execution_count": 20,
     "metadata": {},
     "output_type": "execute_result"
    }
   ],
   "source": [
    "df.head() "
   ]
  },
  {
   "cell_type": "markdown",
   "id": "6b1bfd44",
   "metadata": {},
   "source": [
    "#### Handling the missing data "
   ]
  },
  {
   "cell_type": "code",
   "execution_count": 21,
   "id": "8bf404d6",
   "metadata": {},
   "outputs": [
    {
     "name": "stdout",
     "output_type": "stream",
     "text": [
      "Missing Values Analysis:\n",
      "           Missing_count  Missing_percentage\n",
      "parking             3701           30.841667\n",
      "area_sqft            249            2.075000\n",
      "bhk                  129            1.075000\n"
     ]
    }
   ],
   "source": [
    "missing_value(df)"
   ]
  },
  {
   "cell_type": "code",
   "execution_count": 22,
   "id": "14831ec7",
   "metadata": {},
   "outputs": [
    {
     "data": {
      "text/plain": [
       "parking\n",
       "1.0    8299\n",
       "Name: count, dtype: int64"
      ]
     },
     "execution_count": 22,
     "metadata": {},
     "output_type": "execute_result"
    }
   ],
   "source": [
    "df['parking'].value_counts()"
   ]
  },
  {
   "cell_type": "code",
   "execution_count": 23,
   "id": "b62d9431",
   "metadata": {},
   "outputs": [
    {
     "data": {
      "text/plain": [
       "Series([], Name: parking, dtype: float64)"
      ]
     },
     "execution_count": 23,
     "metadata": {},
     "output_type": "execute_result"
    }
   ],
   "source": [
    "df['parking'][df['parking'] == None]"
   ]
  },
  {
   "cell_type": "code",
   "execution_count": 24,
   "id": "375f3665",
   "metadata": {},
   "outputs": [
    {
     "name": "stderr",
     "output_type": "stream",
     "text": [
      "C:\\Users\\Aabhas\\AppData\\Local\\Temp\\ipykernel_7936\\1338741568.py:1: FutureWarning: A value is trying to be set on a copy of a DataFrame or Series through chained assignment using an inplace method.\n",
      "The behavior will change in pandas 3.0. This inplace method will never work because the intermediate object on which we are setting values always behaves as a copy.\n",
      "\n",
      "For example, when doing 'df[col].method(value, inplace=True)', try using 'df.method({col: value}, inplace=True)' or df[col] = df[col].method(value) instead, to perform the operation inplace on the original object.\n",
      "\n",
      "\n",
      "  df['parking'].fillna(0,inplace=True)\n"
     ]
    }
   ],
   "source": [
    "df['parking'].fillna(0,inplace=True)"
   ]
  },
  {
   "cell_type": "code",
   "execution_count": 25,
   "id": "01eee4fb",
   "metadata": {},
   "outputs": [
    {
     "data": {
      "text/plain": [
       "parking\n",
       "1.0    8299\n",
       "0.0    3701\n",
       "Name: count, dtype: int64"
      ]
     },
     "execution_count": 25,
     "metadata": {},
     "output_type": "execute_result"
    }
   ],
   "source": [
    "df['parking'].value_counts()"
   ]
  },
  {
   "cell_type": "code",
   "execution_count": 26,
   "id": "67b1638d",
   "metadata": {},
   "outputs": [
    {
     "data": {
      "text/plain": [
       "np.float64(3.0)"
      ]
     },
     "execution_count": 26,
     "metadata": {},
     "output_type": "execute_result"
    }
   ],
   "source": [
    "df['bhk'].mode()[0]"
   ]
  },
  {
   "cell_type": "code",
   "execution_count": 27,
   "id": "9c665e1a",
   "metadata": {},
   "outputs": [
    {
     "data": {
      "text/plain": [
       "np.float64(1400.0)"
      ]
     },
     "execution_count": 27,
     "metadata": {},
     "output_type": "execute_result"
    }
   ],
   "source": [
    "df['area_sqft'].median() "
   ]
  },
  {
   "cell_type": "markdown",
   "id": "8fb99323",
   "metadata": {},
   "source": [
    "##### Handling missing data in bhk, by filling with mode value of the column and for area_sqft, median will be used to impute "
   ]
  },
  {
   "cell_type": "code",
   "execution_count": 28,
   "id": "8495921b",
   "metadata": {},
   "outputs": [
    {
     "name": "stderr",
     "output_type": "stream",
     "text": [
      "C:\\Users\\Aabhas\\AppData\\Local\\Temp\\ipykernel_7936\\826305925.py:1: FutureWarning: A value is trying to be set on a copy of a DataFrame or Series through chained assignment using an inplace method.\n",
      "The behavior will change in pandas 3.0. This inplace method will never work because the intermediate object on which we are setting values always behaves as a copy.\n",
      "\n",
      "For example, when doing 'df[col].method(value, inplace=True)', try using 'df.method({col: value}, inplace=True)' or df[col] = df[col].method(value) instead, to perform the operation inplace on the original object.\n",
      "\n",
      "\n",
      "  df['bhk'].fillna(df['bhk'].mode()[0], inplace=True)\n",
      "C:\\Users\\Aabhas\\AppData\\Local\\Temp\\ipykernel_7936\\826305925.py:2: FutureWarning: A value is trying to be set on a copy of a DataFrame or Series through chained assignment using an inplace method.\n",
      "The behavior will change in pandas 3.0. This inplace method will never work because the intermediate object on which we are setting values always behaves as a copy.\n",
      "\n",
      "For example, when doing 'df[col].method(value, inplace=True)', try using 'df.method({col: value}, inplace=True)' or df[col] = df[col].method(value) instead, to perform the operation inplace on the original object.\n",
      "\n",
      "\n",
      "  df['area_sqft'].fillna(df['area_sqft'].median(), inplace=True)\n"
     ]
    }
   ],
   "source": [
    "df['bhk'].fillna(df['bhk'].mode()[0], inplace=True)\n",
    "df['area_sqft'].fillna(df['area_sqft'].median(), inplace=True)"
   ]
  },
  {
   "cell_type": "code",
   "execution_count": 29,
   "id": "4684c893",
   "metadata": {},
   "outputs": [
    {
     "name": "stdout",
     "output_type": "stream",
     "text": [
      "Missing Values Analysis:\n",
      "Empty DataFrame\n",
      "Columns: [Missing_count, Missing_percentage]\n",
      "Index: []\n"
     ]
    }
   ],
   "source": [
    "missing_value(df) "
   ]
  },
  {
   "cell_type": "markdown",
   "id": "07d02405",
   "metadata": {},
   "source": [
    "#### All missing values have been handled "
   ]
  },
  {
   "cell_type": "code",
   "execution_count": 30,
   "id": "187ae359",
   "metadata": {},
   "outputs": [
    {
     "data": {
      "text/html": [
       "<div>\n",
       "<style scoped>\n",
       "    .dataframe tbody tr th:only-of-type {\n",
       "        vertical-align: middle;\n",
       "    }\n",
       "\n",
       "    .dataframe tbody tr th {\n",
       "        vertical-align: top;\n",
       "    }\n",
       "\n",
       "    .dataframe thead th {\n",
       "        text-align: right;\n",
       "    }\n",
       "</style>\n",
       "<table border=\"1\" class=\"dataframe\">\n",
       "  <thead>\n",
       "    <tr style=\"text-align: right;\">\n",
       "      <th></th>\n",
       "      <th>price</th>\n",
       "      <th>bhk</th>\n",
       "      <th>area_sqft</th>\n",
       "      <th>parking</th>\n",
       "    </tr>\n",
       "  </thead>\n",
       "  <tbody>\n",
       "    <tr>\n",
       "      <th>0</th>\n",
       "      <td>95.0</td>\n",
       "      <td>3.0</td>\n",
       "      <td>1400.0</td>\n",
       "      <td>0.0</td>\n",
       "    </tr>\n",
       "    <tr>\n",
       "      <th>1</th>\n",
       "      <td>57500000.0</td>\n",
       "      <td>3.0</td>\n",
       "      <td>1400.0</td>\n",
       "      <td>0.0</td>\n",
       "    </tr>\n",
       "    <tr>\n",
       "      <th>2</th>\n",
       "      <td>40.0</td>\n",
       "      <td>3.0</td>\n",
       "      <td>1400.0</td>\n",
       "      <td>0.0</td>\n",
       "    </tr>\n",
       "    <tr>\n",
       "      <th>3</th>\n",
       "      <td>13800000.0</td>\n",
       "      <td>4.0</td>\n",
       "      <td>1400.0</td>\n",
       "      <td>0.0</td>\n",
       "    </tr>\n",
       "    <tr>\n",
       "      <th>4</th>\n",
       "      <td>11000000.0</td>\n",
       "      <td>4.0</td>\n",
       "      <td>1400.0</td>\n",
       "      <td>0.0</td>\n",
       "    </tr>\n",
       "  </tbody>\n",
       "</table>\n",
       "</div>"
      ],
      "text/plain": [
       "        price  bhk  area_sqft  parking\n",
       "0        95.0  3.0     1400.0      0.0\n",
       "1  57500000.0  3.0     1400.0      0.0\n",
       "2        40.0  3.0     1400.0      0.0\n",
       "3  13800000.0  4.0     1400.0      0.0\n",
       "4  11000000.0  4.0     1400.0      0.0"
      ]
     },
     "execution_count": 30,
     "metadata": {},
     "output_type": "execute_result"
    }
   ],
   "source": [
    "df.head() "
   ]
  },
  {
   "cell_type": "code",
   "execution_count": 31,
   "id": "0b9d587d",
   "metadata": {},
   "outputs": [
    {
     "data": {
      "text/html": [
       "<div>\n",
       "<style scoped>\n",
       "    .dataframe tbody tr th:only-of-type {\n",
       "        vertical-align: middle;\n",
       "    }\n",
       "\n",
       "    .dataframe tbody tr th {\n",
       "        vertical-align: top;\n",
       "    }\n",
       "\n",
       "    .dataframe thead th {\n",
       "        text-align: right;\n",
       "    }\n",
       "</style>\n",
       "<table border=\"1\" class=\"dataframe\">\n",
       "  <thead>\n",
       "    <tr style=\"text-align: right;\">\n",
       "      <th></th>\n",
       "      <th>price</th>\n",
       "      <th>bhk</th>\n",
       "      <th>area_sqft</th>\n",
       "      <th>parking</th>\n",
       "    </tr>\n",
       "  </thead>\n",
       "  <tbody>\n",
       "    <tr>\n",
       "      <th>count</th>\n",
       "      <td>1.200000e+04</td>\n",
       "      <td>12000.000000</td>\n",
       "      <td>12000.000000</td>\n",
       "      <td>12000.000000</td>\n",
       "    </tr>\n",
       "    <tr>\n",
       "      <th>mean</th>\n",
       "      <td>2.965661e+07</td>\n",
       "      <td>3.089917</td>\n",
       "      <td>1640.961417</td>\n",
       "      <td>0.691583</td>\n",
       "    </tr>\n",
       "    <tr>\n",
       "      <th>std</th>\n",
       "      <td>5.103759e+07</td>\n",
       "      <td>0.932597</td>\n",
       "      <td>2229.662233</td>\n",
       "      <td>0.461859</td>\n",
       "    </tr>\n",
       "    <tr>\n",
       "      <th>min</th>\n",
       "      <td>7.500000e+00</td>\n",
       "      <td>1.000000</td>\n",
       "      <td>32.000000</td>\n",
       "      <td>0.000000</td>\n",
       "    </tr>\n",
       "    <tr>\n",
       "      <th>25%</th>\n",
       "      <td>7.700000e+01</td>\n",
       "      <td>3.000000</td>\n",
       "      <td>900.000000</td>\n",
       "      <td>0.000000</td>\n",
       "    </tr>\n",
       "    <tr>\n",
       "      <th>50%</th>\n",
       "      <td>1.865000e+07</td>\n",
       "      <td>3.000000</td>\n",
       "      <td>1400.000000</td>\n",
       "      <td>1.000000</td>\n",
       "    </tr>\n",
       "    <tr>\n",
       "      <th>75%</th>\n",
       "      <td>3.470000e+07</td>\n",
       "      <td>4.000000</td>\n",
       "      <td>1900.000000</td>\n",
       "      <td>1.000000</td>\n",
       "    </tr>\n",
       "    <tr>\n",
       "      <th>max</th>\n",
       "      <td>1.500000e+09</td>\n",
       "      <td>12.000000</td>\n",
       "      <td>109000.000000</td>\n",
       "      <td>1.000000</td>\n",
       "    </tr>\n",
       "  </tbody>\n",
       "</table>\n",
       "</div>"
      ],
      "text/plain": [
       "              price           bhk      area_sqft       parking\n",
       "count  1.200000e+04  12000.000000   12000.000000  12000.000000\n",
       "mean   2.965661e+07      3.089917    1640.961417      0.691583\n",
       "std    5.103759e+07      0.932597    2229.662233      0.461859\n",
       "min    7.500000e+00      1.000000      32.000000      0.000000\n",
       "25%    7.700000e+01      3.000000     900.000000      0.000000\n",
       "50%    1.865000e+07      3.000000    1400.000000      1.000000\n",
       "75%    3.470000e+07      4.000000    1900.000000      1.000000\n",
       "max    1.500000e+09     12.000000  109000.000000      1.000000"
      ]
     },
     "execution_count": 31,
     "metadata": {},
     "output_type": "execute_result"
    }
   ],
   "source": [
    "df.describe() "
   ]
  },
  {
   "cell_type": "code",
   "execution_count": 32,
   "id": "2b354cd6",
   "metadata": {},
   "outputs": [
    {
     "data": {
      "text/plain": [
       "price\n",
       "1.576000e+08      1\n",
       "8.429000e+01      1\n",
       "5.210000e+01      1\n",
       "1.225000e+08      1\n",
       "2.540000e+07      1\n",
       "               ... \n",
       "3.250000e+07    161\n",
       "2.750000e+07    170\n",
       "2.500000e+07    178\n",
       "8.500000e+01    181\n",
       "7.500000e+01    201\n",
       "Name: count, Length: 1011, dtype: int64"
      ]
     },
     "execution_count": 32,
     "metadata": {},
     "output_type": "execute_result"
    }
   ],
   "source": [
    "df['price'].value_counts().sort_values(ascending=True)"
   ]
  },
  {
   "cell_type": "code",
   "execution_count": 33,
   "id": "c919e60f",
   "metadata": {},
   "outputs": [
    {
     "data": {
      "text/html": [
       "<div>\n",
       "<style scoped>\n",
       "    .dataframe tbody tr th:only-of-type {\n",
       "        vertical-align: middle;\n",
       "    }\n",
       "\n",
       "    .dataframe tbody tr th {\n",
       "        vertical-align: top;\n",
       "    }\n",
       "\n",
       "    .dataframe thead th {\n",
       "        text-align: right;\n",
       "    }\n",
       "</style>\n",
       "<table border=\"1\" class=\"dataframe\">\n",
       "  <thead>\n",
       "    <tr style=\"text-align: right;\">\n",
       "      <th></th>\n",
       "      <th>price</th>\n",
       "      <th>bhk</th>\n",
       "      <th>area_sqft</th>\n",
       "      <th>parking</th>\n",
       "    </tr>\n",
       "  </thead>\n",
       "  <tbody>\n",
       "    <tr>\n",
       "      <th>0</th>\n",
       "      <td>95.0</td>\n",
       "      <td>3.0</td>\n",
       "      <td>1400.0</td>\n",
       "      <td>0.0</td>\n",
       "    </tr>\n",
       "    <tr>\n",
       "      <th>1</th>\n",
       "      <td>57500000.0</td>\n",
       "      <td>3.0</td>\n",
       "      <td>1400.0</td>\n",
       "      <td>0.0</td>\n",
       "    </tr>\n",
       "    <tr>\n",
       "      <th>2</th>\n",
       "      <td>40.0</td>\n",
       "      <td>3.0</td>\n",
       "      <td>1400.0</td>\n",
       "      <td>0.0</td>\n",
       "    </tr>\n",
       "    <tr>\n",
       "      <th>3</th>\n",
       "      <td>13800000.0</td>\n",
       "      <td>4.0</td>\n",
       "      <td>1400.0</td>\n",
       "      <td>0.0</td>\n",
       "    </tr>\n",
       "    <tr>\n",
       "      <th>4</th>\n",
       "      <td>11000000.0</td>\n",
       "      <td>4.0</td>\n",
       "      <td>1400.0</td>\n",
       "      <td>0.0</td>\n",
       "    </tr>\n",
       "    <tr>\n",
       "      <th>...</th>\n",
       "      <td>...</td>\n",
       "      <td>...</td>\n",
       "      <td>...</td>\n",
       "      <td>...</td>\n",
       "    </tr>\n",
       "    <tr>\n",
       "      <th>11995</th>\n",
       "      <td>50.0</td>\n",
       "      <td>2.0</td>\n",
       "      <td>630.0</td>\n",
       "      <td>1.0</td>\n",
       "    </tr>\n",
       "    <tr>\n",
       "      <th>11996</th>\n",
       "      <td>60000000.0</td>\n",
       "      <td>3.0</td>\n",
       "      <td>1800.0</td>\n",
       "      <td>1.0</td>\n",
       "    </tr>\n",
       "    <tr>\n",
       "      <th>11997</th>\n",
       "      <td>45.0</td>\n",
       "      <td>3.0</td>\n",
       "      <td>1200.0</td>\n",
       "      <td>1.0</td>\n",
       "    </tr>\n",
       "    <tr>\n",
       "      <th>11998</th>\n",
       "      <td>32.5</td>\n",
       "      <td>2.0</td>\n",
       "      <td>650.0</td>\n",
       "      <td>0.0</td>\n",
       "    </tr>\n",
       "    <tr>\n",
       "      <th>11999</th>\n",
       "      <td>33.0</td>\n",
       "      <td>2.0</td>\n",
       "      <td>650.0</td>\n",
       "      <td>1.0</td>\n",
       "    </tr>\n",
       "  </tbody>\n",
       "</table>\n",
       "<p>12000 rows × 4 columns</p>\n",
       "</div>"
      ],
      "text/plain": [
       "            price  bhk  area_sqft  parking\n",
       "0            95.0  3.0     1400.0      0.0\n",
       "1      57500000.0  3.0     1400.0      0.0\n",
       "2            40.0  3.0     1400.0      0.0\n",
       "3      13800000.0  4.0     1400.0      0.0\n",
       "4      11000000.0  4.0     1400.0      0.0\n",
       "...           ...  ...        ...      ...\n",
       "11995        50.0  2.0      630.0      1.0\n",
       "11996  60000000.0  3.0     1800.0      1.0\n",
       "11997        45.0  3.0     1200.0      1.0\n",
       "11998        32.5  2.0      650.0      0.0\n",
       "11999        33.0  2.0      650.0      1.0\n",
       "\n",
       "[12000 rows x 4 columns]"
      ]
     },
     "execution_count": 33,
     "metadata": {},
     "output_type": "execute_result"
    }
   ],
   "source": [
    "df"
   ]
  },
  {
   "cell_type": "code",
   "execution_count": 34,
   "id": "fb066e7e",
   "metadata": {},
   "outputs": [
    {
     "data": {
      "text/plain": [
       "0              95.0\n",
       "1        57500000.0\n",
       "2              40.0\n",
       "3        13800000.0\n",
       "4        11000000.0\n",
       "            ...    \n",
       "11995          50.0\n",
       "11996    60000000.0\n",
       "11997          45.0\n",
       "11998          32.5\n",
       "11999          33.0\n",
       "Name: price, Length: 12000, dtype: float64"
      ]
     },
     "execution_count": 34,
     "metadata": {},
     "output_type": "execute_result"
    }
   ],
   "source": [
    "df['price']"
   ]
  },
  {
   "cell_type": "markdown",
   "id": "8a2f17a1",
   "metadata": {},
   "source": [
    "#### After observing price column, there is some data inconsistency as values in lakhs are written in 2 digits while crore values are with all 0s, we need to fix this inconsistency"
   ]
  },
  {
   "cell_type": "code",
   "execution_count": 35,
   "id": "e8021c00",
   "metadata": {},
   "outputs": [],
   "source": [
    "df['price'] = df['price'].apply(lambda x: x*100000 if x < 10000 else x)"
   ]
  },
  {
   "cell_type": "code",
   "execution_count": 36,
   "id": "649ea70b",
   "metadata": {},
   "outputs": [],
   "source": [
    "pd.options.display.float_format = '{:,.0f}'.format"
   ]
  },
  {
   "cell_type": "code",
   "execution_count": 37,
   "id": "f38c7cdc",
   "metadata": {},
   "outputs": [
    {
     "data": {
      "text/html": [
       "<div>\n",
       "<style scoped>\n",
       "    .dataframe tbody tr th:only-of-type {\n",
       "        vertical-align: middle;\n",
       "    }\n",
       "\n",
       "    .dataframe tbody tr th {\n",
       "        vertical-align: top;\n",
       "    }\n",
       "\n",
       "    .dataframe thead th {\n",
       "        text-align: right;\n",
       "    }\n",
       "</style>\n",
       "<table border=\"1\" class=\"dataframe\">\n",
       "  <thead>\n",
       "    <tr style=\"text-align: right;\">\n",
       "      <th></th>\n",
       "      <th>price</th>\n",
       "      <th>bhk</th>\n",
       "      <th>area_sqft</th>\n",
       "      <th>parking</th>\n",
       "    </tr>\n",
       "  </thead>\n",
       "  <tbody>\n",
       "    <tr>\n",
       "      <th>0</th>\n",
       "      <td>9,500,000</td>\n",
       "      <td>3</td>\n",
       "      <td>1,400</td>\n",
       "      <td>0</td>\n",
       "    </tr>\n",
       "    <tr>\n",
       "      <th>1</th>\n",
       "      <td>57,500,000</td>\n",
       "      <td>3</td>\n",
       "      <td>1,400</td>\n",
       "      <td>0</td>\n",
       "    </tr>\n",
       "    <tr>\n",
       "      <th>2</th>\n",
       "      <td>4,000,000</td>\n",
       "      <td>3</td>\n",
       "      <td>1,400</td>\n",
       "      <td>0</td>\n",
       "    </tr>\n",
       "    <tr>\n",
       "      <th>3</th>\n",
       "      <td>13,800,000</td>\n",
       "      <td>4</td>\n",
       "      <td>1,400</td>\n",
       "      <td>0</td>\n",
       "    </tr>\n",
       "    <tr>\n",
       "      <th>4</th>\n",
       "      <td>11,000,000</td>\n",
       "      <td>4</td>\n",
       "      <td>1,400</td>\n",
       "      <td>0</td>\n",
       "    </tr>\n",
       "  </tbody>\n",
       "</table>\n",
       "</div>"
      ],
      "text/plain": [
       "       price  bhk  area_sqft  parking\n",
       "0  9,500,000    3      1,400        0\n",
       "1 57,500,000    3      1,400        0\n",
       "2  4,000,000    3      1,400        0\n",
       "3 13,800,000    4      1,400        0\n",
       "4 11,000,000    4      1,400        0"
      ]
     },
     "execution_count": 37,
     "metadata": {},
     "output_type": "execute_result"
    }
   ],
   "source": [
    "df.head() "
   ]
  },
  {
   "cell_type": "code",
   "execution_count": 38,
   "id": "1069a724",
   "metadata": {},
   "outputs": [
    {
     "data": {
      "text/plain": [
       "count          12,000\n",
       "mean       31,534,747\n",
       "std        50,022,919\n",
       "min           750,000\n",
       "25%         7,700,000\n",
       "50%        18,650,000\n",
       "75%        34,700,000\n",
       "max     1,500,000,000\n",
       "Name: price, dtype: float64"
      ]
     },
     "execution_count": 38,
     "metadata": {},
     "output_type": "execute_result"
    }
   ],
   "source": [
    "df['price'].describe()  "
   ]
  },
  {
   "cell_type": "code",
   "execution_count": 39,
   "id": "d7ab436e",
   "metadata": {},
   "outputs": [],
   "source": [
    "df.to_csv('../data/housing_cleaned.csv',index=False)"
   ]
  },
  {
   "cell_type": "code",
   "execution_count": 40,
   "id": "cd69fd8a",
   "metadata": {},
   "outputs": [
    {
     "data": {
      "text/html": [
       "<div>\n",
       "<style scoped>\n",
       "    .dataframe tbody tr th:only-of-type {\n",
       "        vertical-align: middle;\n",
       "    }\n",
       "\n",
       "    .dataframe tbody tr th {\n",
       "        vertical-align: top;\n",
       "    }\n",
       "\n",
       "    .dataframe thead th {\n",
       "        text-align: right;\n",
       "    }\n",
       "</style>\n",
       "<table border=\"1\" class=\"dataframe\">\n",
       "  <thead>\n",
       "    <tr style=\"text-align: right;\">\n",
       "      <th></th>\n",
       "      <th>price</th>\n",
       "      <th>bhk</th>\n",
       "      <th>area_sqft</th>\n",
       "      <th>parking</th>\n",
       "    </tr>\n",
       "  </thead>\n",
       "  <tbody>\n",
       "    <tr>\n",
       "      <th>count</th>\n",
       "      <td>12,000</td>\n",
       "      <td>12,000</td>\n",
       "      <td>12,000</td>\n",
       "      <td>12,000</td>\n",
       "    </tr>\n",
       "    <tr>\n",
       "      <th>mean</th>\n",
       "      <td>31,534,747</td>\n",
       "      <td>3</td>\n",
       "      <td>1,641</td>\n",
       "      <td>1</td>\n",
       "    </tr>\n",
       "    <tr>\n",
       "      <th>std</th>\n",
       "      <td>50,022,919</td>\n",
       "      <td>1</td>\n",
       "      <td>2,230</td>\n",
       "      <td>0</td>\n",
       "    </tr>\n",
       "    <tr>\n",
       "      <th>min</th>\n",
       "      <td>750,000</td>\n",
       "      <td>1</td>\n",
       "      <td>32</td>\n",
       "      <td>0</td>\n",
       "    </tr>\n",
       "    <tr>\n",
       "      <th>25%</th>\n",
       "      <td>7,700,000</td>\n",
       "      <td>3</td>\n",
       "      <td>900</td>\n",
       "      <td>0</td>\n",
       "    </tr>\n",
       "    <tr>\n",
       "      <th>50%</th>\n",
       "      <td>18,650,000</td>\n",
       "      <td>3</td>\n",
       "      <td>1,400</td>\n",
       "      <td>1</td>\n",
       "    </tr>\n",
       "    <tr>\n",
       "      <th>75%</th>\n",
       "      <td>34,700,000</td>\n",
       "      <td>4</td>\n",
       "      <td>1,900</td>\n",
       "      <td>1</td>\n",
       "    </tr>\n",
       "    <tr>\n",
       "      <th>max</th>\n",
       "      <td>1,500,000,000</td>\n",
       "      <td>12</td>\n",
       "      <td>109,000</td>\n",
       "      <td>1</td>\n",
       "    </tr>\n",
       "  </tbody>\n",
       "</table>\n",
       "</div>"
      ],
      "text/plain": [
       "              price    bhk  area_sqft  parking\n",
       "count        12,000 12,000     12,000   12,000\n",
       "mean     31,534,747      3      1,641        1\n",
       "std      50,022,919      1      2,230        0\n",
       "min         750,000      1         32        0\n",
       "25%       7,700,000      3        900        0\n",
       "50%      18,650,000      3      1,400        1\n",
       "75%      34,700,000      4      1,900        1\n",
       "max   1,500,000,000     12    109,000        1"
      ]
     },
     "execution_count": 40,
     "metadata": {},
     "output_type": "execute_result"
    }
   ],
   "source": [
    "df.describe() "
   ]
  },
  {
   "cell_type": "code",
   "execution_count": 41,
   "id": "01fce041",
   "metadata": {},
   "outputs": [],
   "source": [
    "df['bhk'] = df['bhk'].astype(int)\n",
    "df['parking'] = df['parking'].astype(int)"
   ]
  },
  {
   "cell_type": "code",
   "execution_count": 42,
   "id": "162eb2f7",
   "metadata": {},
   "outputs": [
    {
     "name": "stdout",
     "output_type": "stream",
     "text": [
      "<class 'pandas.core.frame.DataFrame'>\n",
      "RangeIndex: 12000 entries, 0 to 11999\n",
      "Data columns (total 4 columns):\n",
      " #   Column     Non-Null Count  Dtype  \n",
      "---  ------     --------------  -----  \n",
      " 0   price      12000 non-null  float64\n",
      " 1   bhk        12000 non-null  int64  \n",
      " 2   area_sqft  12000 non-null  float64\n",
      " 3   parking    12000 non-null  int64  \n",
      "dtypes: float64(2), int64(2)\n",
      "memory usage: 375.1 KB\n",
      "None\n",
      "              price    bhk  area_sqft  parking\n",
      "count        12,000 12,000     12,000   12,000\n",
      "mean     31,534,747      3      1,641        1\n",
      "std      50,022,919      1      2,230        0\n",
      "min         750,000      1         32        0\n",
      "25%       7,700,000      3        900        0\n",
      "50%      18,650,000      3      1,400        1\n",
      "75%      34,700,000      4      1,900        1\n",
      "max   1,500,000,000     12    109,000        1\n"
     ]
    }
   ],
   "source": [
    "print(df.info(), end='\\n')\n",
    "print(df.describe())"
   ]
  },
  {
   "cell_type": "code",
   "execution_count": 43,
   "id": "3e77f89e",
   "metadata": {},
   "outputs": [
    {
     "name": "stdout",
     "output_type": "stream",
     "text": [
      "Price Statistics:\n",
      "count          12,000\n",
      "mean       31,534,747\n",
      "std        50,022,919\n",
      "min           750,000\n",
      "25%         7,700,000\n",
      "50%        18,650,000\n",
      "75%        34,700,000\n",
      "max     1,500,000,000\n",
      "Name: price, dtype: float64\n",
      "\n",
      "Price range: ₹750,000 to ₹1,500,000,000\n"
     ]
    },
    {
     "data": {
      "image/png": "[encoded data removed]",
      "text/plain": [
       "<Figure size 1500x500 with 3 Axes>"
      ]
     },
     "metadata": {},
     "output_type": "display_data"
    }
   ],
   "source": [
    "print(\"Price Statistics:\")\n",
    "print(df['price'].describe())\n",
    "print(f\"\\nPrice range: ₹{df['price'].min():,.0f} to ₹{df['price'].max():,.0f}\")\n",
    "\n",
    "# Check outliers \n",
    "plt.figure(figsize=(15,5))\n",
    "\n",
    "plt.subplot(1,3,1) \n",
    "plt.hist(df['price'],bins=50,edgecolor='black',alpha=0.7)\n",
    "plt.title('Price Distribution')\n",
    "plt.xlabel('Price (₹)')\n",
    "plt.ylabel('Frequency')\n",
    "\n",
    "plt.subplot(1,3,2)\n",
    "plt.boxplot(df['price'])\n",
    "plt.title('Price Boxplot')\n",
    "plt.ylabel('Price (₹)')\n",
    "\n",
    "plt.subplot(1,3,3)\n",
    "# Log transformation \n",
    "plt.hist(np.log10(df['price']),bins=50,edgecolor='black',alpha=0.7)\n",
    "plt.title('Log10(Price) Distribution')\n",
    "plt.xlabel('Log10(Price)')\n",
    "plt.ylabel('Frequency')\n",
    "\n",
    "plt.tight_layout()\n",
    "plt.show() "
   ]
  },
  {
   "cell_type": "code",
   "execution_count": 44,
   "id": "a0c2296a",
   "metadata": {},
   "outputs": [
    {
     "data": {
      "text/plain": [
       "<Axes: xlabel='bhk', ylabel='price'>"
      ]
     },
     "execution_count": 44,
     "metadata": {},
     "output_type": "execute_result"
    },
    {
     "data": {
      "image/png": "[encoded data removed]",
      "text/plain": [
       "<Figure size 640x480 with 1 Axes>"
      ]
     },
     "metadata": {},
     "output_type": "display_data"
    }
   ],
   "source": [
    "# Barplot: BHK vs Price \n",
    "sns.barplot(df,x='bhk',y='price',hue='bhk')"
   ]
  },
  {
   "cell_type": "code",
   "execution_count": 45,
   "id": "9b55b151",
   "metadata": {},
   "outputs": [
    {
     "data": {
      "text/plain": [
       "<Axes: xlabel='bhk', ylabel='price'>"
      ]
     },
     "execution_count": 45,
     "metadata": {},
     "output_type": "execute_result"
    },
    {
     "data": {
      "image/png": "[encoded data removed]",
      "text/plain": [
       "<Figure size 640x480 with 1 Axes>"
      ]
     },
     "metadata": {},
     "output_type": "display_data"
    }
   ],
   "source": [
    "sns.boxplot(data=df,x='bhk',y='price',hue='bhk')"
   ]
  },
  {
   "cell_type": "code",
   "execution_count": 46,
   "id": "888043d2",
   "metadata": {},
   "outputs": [
    {
     "data": {
      "text/plain": [
       "<Axes: xlabel='area_sqft', ylabel='price'>"
      ]
     },
     "execution_count": 46,
     "metadata": {},
     "output_type": "execute_result"
    },
    {
     "data": {
      "image/png": "[encoded data removed]",
      "text/plain": [
       "<Figure size 640x480 with 1 Axes>"
      ]
     },
     "metadata": {},
     "output_type": "display_data"
    }
   ],
   "source": [
    "sns.scatterplot(data=df,x='area_sqft',y='price')"
   ]
  },
  {
   "cell_type": "code",
   "execution_count": 47,
   "id": "c55b1448",
   "metadata": {},
   "outputs": [
    {
     "data": {
      "text/plain": [
       "<Axes: >"
      ]
     },
     "execution_count": 47,
     "metadata": {},
     "output_type": "execute_result"
    },
    {
     "data": {
      "image/png": "[encoded data removed]",
      "text/plain": [
       "<Figure size 640x480 with 2 Axes>"
      ]
     },
     "metadata": {},
     "output_type": "display_data"
    }
   ],
   "source": [
    "sns.heatmap(data=df[['area_sqft','price']].corr(),annot=True)"
   ]
  },
  {
   "cell_type": "code",
   "execution_count": 48,
   "id": "74abe758",
   "metadata": {},
   "outputs": [
    {
     "data": {
      "image/png": "[encoded data removed]",
      "text/plain": [
       "<Figure size 1000x800 with 2 Axes>"
      ]
     },
     "metadata": {},
     "output_type": "display_data"
    }
   ],
   "source": [
    "# Correlation Heatmap \n",
    "correlation_matrix = df.corr() \n",
    "plt.figure(figsize=(10,8))\n",
    "sns.heatmap(correlation_matrix,annot=True,cmap='coolwarm',center=0,square=True,linewidths=0.5)\n",
    "plt.title('Feature Correlation Matrix')\n",
    "plt.tight_layout()\n",
    "plt.show() "
   ]
  },
  {
   "cell_type": "markdown",
   "id": "53fc1d12",
   "metadata": {},
   "source": [
    "### FEATURE DISTRIBUTION ANALYSIS "
   ]
  },
  {
   "cell_type": "markdown",
   "id": "470ba1e7",
   "metadata": {},
   "source": [
    "#### 1. BHK Distributions "
   ]
  },
  {
   "cell_type": "code",
   "execution_count": 49,
   "id": "fee4c341",
   "metadata": {},
   "outputs": [
    {
     "name": "stdout",
     "output_type": "stream",
     "text": [
      "\n",
      "BHK Distribution:\n",
      "bhk\n",
      "1      366\n",
      "2     2273\n",
      "3     5994\n",
      "4     2901\n",
      "5      359\n",
      "6       66\n",
      "7        4\n",
      "8       13\n",
      "9        4\n",
      "10       9\n",
      "12      11\n",
      "Name: count, dtype: int64\n",
      "Most common BHK: 3 (50.0%)\n"
     ]
    },
    {
     "data": {
      "image/png": "[encoded data removed]",
      "text/plain": [
       "<Figure size 1500x1000 with 2 Axes>"
      ]
     },
     "metadata": {},
     "output_type": "display_data"
    },
    {
     "data": {
      "image/png": "[encoded data removed]",
      "text/plain": [
       "<Figure size 640x480 with 1 Axes>"
      ]
     },
     "metadata": {},
     "output_type": "display_data"
    }
   ],
   "source": [
    "# BHK Analysis \n",
    "print(\"\\nBHK Distribution:\")\n",
    "bhk_dist = df['bhk'].value_counts().sort_index() \n",
    "print(bhk_dist)\n",
    "print(f\"Most common BHK: {df['bhk'].mode()[0]} ({df['bhk'].value_counts().max()/len(df)*100:.1f}%)\")\n",
    "\n",
    "plt.figure(figsize=(15,10))\n",
    "plt.subplot(1,3,1)\n",
    "plt.hist(df['bhk'],bins=50,edgecolor='black',alpha=0.7)\n",
    "plt.title('BHK Distribution')\n",
    "plt.xlabel('BHK')\n",
    "plt.ylabel('Frequency')\n",
    "\n",
    "plt.subplot(1,3,2)\n",
    "plt.boxplot(df['bhk'])\n",
    "plt.title('BHK Boxplot')\n",
    "plt.xlabel('BHK')\n",
    "plt.show() \n",
    "\n",
    "plt.subplot(1,3,3)\n",
    "sns.barplot(data=bhk_dist)\n",
    "plt.tight_layout()\n",
    "plt.show()"
   ]
  },
  {
   "cell_type": "markdown",
   "id": "ca70855f",
   "metadata": {},
   "source": [
    "#### 2. Area Analysis \n"
   ]
  },
  {
   "cell_type": "code",
   "execution_count": 50,
   "id": "f4e05f47",
   "metadata": {},
   "outputs": [
    {
     "data": {
      "image/png": "[encoded data removed]",
      "text/plain": [
       "<Figure size 1500x500 with 3 Axes>"
      ]
     },
     "metadata": {},
     "output_type": "display_data"
    },
    {
     "name": "stdout",
     "output_type": "stream",
     "text": [
      "\n",
      "\n",
      "Area range: 32 to 109000 sq ft\n",
      "Average area: 1641 sq ft\n"
     ]
    }
   ],
   "source": [
    "plt.figure(figsize=(15,5))\n",
    "\n",
    "plt.subplot(1,3,1) \n",
    "plt.hist(df['area_sqft'],bins=50,edgecolor='black',alpha=0.7)\n",
    "plt.title('Area Distribution')\n",
    "plt.xlabel('Area')\n",
    "plt.ylabel('Frequency')\n",
    "\n",
    "plt.subplot(1,3,2)\n",
    "plt.boxplot(df['area_sqft'])\n",
    "plt.title('Area Boxplot')\n",
    "plt.ylabel('Area')\n",
    "\n",
    "plt.subplot(1,3,3)\n",
    "# Log transformation \n",
    "plt.hist(np.log10(df['area_sqft']),bins=50,edgecolor='black',alpha=0.7)\n",
    "plt.title('Log10(Area) Distribution')\n",
    "plt.xlabel('Log10(Area)')\n",
    "plt.ylabel('Frequency')\n",
    "\n",
    "plt.tight_layout()\n",
    "plt.show() \n",
    "\n",
    "print(f\"\\n\")\n",
    "print(f\"Area range: {df['area_sqft'].min():.0f} to {df['area_sqft'].max():.0f} sq ft\")\n",
    "print(f\"Average area: {df['area_sqft'].mean():.0f} sq ft\")"
   ]
  },
  {
   "cell_type": "markdown",
   "id": "de8f2885",
   "metadata": {},
   "source": [
    "#### 3. Identifying small/large properties "
   ]
  },
  {
   "cell_type": "code",
   "execution_count": 51,
   "id": "3d655e0c",
   "metadata": {},
   "outputs": [
    {
     "name": "stdout",
     "output_type": "stream",
     "text": [
      "Small properties (<500 sq ft): 441 (3.7%)\n",
      "Large properties (>3000 sq ft): 709 (5.9%)\n"
     ]
    }
   ],
   "source": [
    "small = df[df['area_sqft'] < 500]\n",
    "large = df[df['area_sqft'] > 3000]\n",
    "print(f\"Small properties (<500 sq ft): {len(small)} ({len(small)/len(df)*100:.1f}%)\")\n",
    "print(f\"Large properties (>3000 sq ft): {len(large)} ({len(large)/len(df)*100:.1f}%)\")"
   ]
  },
  {
   "cell_type": "markdown",
   "id": "47d1caf8",
   "metadata": {},
   "source": [
    "#### 4. Parking Analysis "
   ]
  },
  {
   "cell_type": "code",
   "execution_count": 52,
   "id": "2a953d2a",
   "metadata": {},
   "outputs": [
    {
     "name": "stdout",
     "output_type": "stream",
     "text": [
      "\n",
      "Parking Distribution:\n",
      "parking\n",
      "0    3701\n",
      "1    8299\n",
      "Name: count, dtype: int64\n",
      "Properties without parking: 3701 (30.8%)\n"
     ]
    }
   ],
   "source": [
    "print(f\"\\nParking Distribution:\")\n",
    "parking_dist = df['parking'].value_counts().sort_index()\n",
    "print(parking_dist)\n",
    "no_parking = (df['parking'] == 0).sum()\n",
    "print(f\"Properties without parking: {no_parking} ({no_parking/len(df)*100:.1f}%)\")"
   ]
  },
  {
   "cell_type": "code",
   "execution_count": 53,
   "id": "15364dda",
   "metadata": {},
   "outputs": [
    {
     "name": "stdout",
     "output_type": "stream",
     "text": [
      "\n",
      "Area vs BHK Analysis:\n"
     ]
    },
    {
     "data": {
      "text/html": [
       "<div>\n",
       "<style scoped>\n",
       "    .dataframe tbody tr th:only-of-type {\n",
       "        vertical-align: middle;\n",
       "    }\n",
       "\n",
       "    .dataframe tbody tr th {\n",
       "        vertical-align: top;\n",
       "    }\n",
       "\n",
       "    .dataframe thead th {\n",
       "        text-align: right;\n",
       "    }\n",
       "</style>\n",
       "<table border=\"1\" class=\"dataframe\">\n",
       "  <thead>\n",
       "    <tr style=\"text-align: right;\">\n",
       "      <th></th>\n",
       "      <th>mean</th>\n",
       "      <th>median</th>\n",
       "      <th>std</th>\n",
       "    </tr>\n",
       "    <tr>\n",
       "      <th>bhk</th>\n",
       "      <th></th>\n",
       "      <th></th>\n",
       "      <th></th>\n",
       "    </tr>\n",
       "  </thead>\n",
       "  <tbody>\n",
       "    <tr>\n",
       "      <th>1</th>\n",
       "      <td>475</td>\n",
       "      <td>450</td>\n",
       "      <td>116</td>\n",
       "    </tr>\n",
       "    <tr>\n",
       "      <th>2</th>\n",
       "      <td>788</td>\n",
       "      <td>700</td>\n",
       "      <td>270</td>\n",
       "    </tr>\n",
       "    <tr>\n",
       "      <th>3</th>\n",
       "      <td>1,425</td>\n",
       "      <td>1,400</td>\n",
       "      <td>654</td>\n",
       "    </tr>\n",
       "    <tr>\n",
       "      <th>4</th>\n",
       "      <td>2,543</td>\n",
       "      <td>2,300</td>\n",
       "      <td>1,256</td>\n",
       "    </tr>\n",
       "    <tr>\n",
       "      <th>5</th>\n",
       "      <td>2,995</td>\n",
       "      <td>1,900</td>\n",
       "      <td>6,125</td>\n",
       "    </tr>\n",
       "    <tr>\n",
       "      <th>6</th>\n",
       "      <td>6,933</td>\n",
       "      <td>3,000</td>\n",
       "      <td>18,393</td>\n",
       "    </tr>\n",
       "    <tr>\n",
       "      <th>7</th>\n",
       "      <td>28,025</td>\n",
       "      <td>6,700</td>\n",
       "      <td>45,368</td>\n",
       "    </tr>\n",
       "    <tr>\n",
       "      <th>8</th>\n",
       "      <td>4,205</td>\n",
       "      <td>3,150</td>\n",
       "      <td>2,477</td>\n",
       "    </tr>\n",
       "    <tr>\n",
       "      <th>9</th>\n",
       "      <td>1,278</td>\n",
       "      <td>1,305</td>\n",
       "      <td>371</td>\n",
       "    </tr>\n",
       "    <tr>\n",
       "      <th>10</th>\n",
       "      <td>4,717</td>\n",
       "      <td>4,000</td>\n",
       "      <td>4,117</td>\n",
       "    </tr>\n",
       "    <tr>\n",
       "      <th>12</th>\n",
       "      <td>5,492</td>\n",
       "      <td>6,000</td>\n",
       "      <td>3,389</td>\n",
       "    </tr>\n",
       "  </tbody>\n",
       "</table>\n",
       "</div>"
      ],
      "text/plain": [
       "      mean  median    std\n",
       "bhk                      \n",
       "1      475     450    116\n",
       "2      788     700    270\n",
       "3    1,425   1,400    654\n",
       "4    2,543   2,300  1,256\n",
       "5    2,995   1,900  6,125\n",
       "6    6,933   3,000 18,393\n",
       "7   28,025   6,700 45,368\n",
       "8    4,205   3,150  2,477\n",
       "9    1,278   1,305    371\n",
       "10   4,717   4,000  4,117\n",
       "12   5,492   6,000  3,389"
      ]
     },
     "execution_count": 53,
     "metadata": {},
     "output_type": "execute_result"
    }
   ],
   "source": [
    "print(f\"\\nArea vs BHK Analysis:\")\n",
    "area_per_bhk = df.groupby('bhk')['area_sqft'].agg(['mean','median','std'])\n",
    "area_per_bhk"
   ]
  }
 ],
 "metadata": {
  "kernelspec": {
   "display_name": "env",
   "language": "python",
   "name": "python3"
  },
  "language_info": {
   "codemirror_mode": {
    "name": "ipython",
    "version": 3
   },
   "file_extension": ".py",
   "mimetype": "text/x-python",
   "name": "python",
   "nbconvert_exporter": "python",
   "pygments_lexer": "ipython3",
   "version": "3.13.7"
  }
 },
 "nbformat": 4,
 "nbformat_minor": 5
}
